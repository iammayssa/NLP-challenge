{
  "nbformat": 4,
  "nbformat_minor": 0,
  "metadata": {
    "accelerator": "GPU",
    "colab": {
      "name": "Datagram NLP_Challenge_Mayssa Rekik.ipynb",
      "provenance": [],
      "collapsed_sections": []
    },
    "kernelspec": {
      "display_name": "Python 3",
      "name": "python3"
    },
    "language_info": {
      "name": "python"
    }
  },
  "cells": [
    {
      "cell_type": "markdown",
      "metadata": {
        "id": "KQ10mpx35coT"
      },
      "source": [
        "# I N T R O D U C T I O N"
      ]
    },
    {
      "cell_type": "markdown",
      "metadata": {
        "id": "0z88COkQ5frU"
      },
      "source": [
        "In any machine learning project, the first thing to do is to fully understand the raw data we have and to manipulate it and fine tune it enough that we have the insights and the information we need to start actually working with it. Exploratory Data Analysis (EDA) is a process of doing so. We take a look at the data we have before rushing into conclusions. This helps identify apparent errors and better understand patterns within the data, detect outliers or find interesting relations among the variables. We will be using that in order to perform an efficient text tokenization.\n",
        "\n",
        "The second step would then be using a machine learning approach, unsupervised learning in our case, to perform token embedding on the tokens we obtain from the tokenizer function."
      ]
    },
    {
      "cell_type": "markdown",
      "metadata": {
        "id": "3AfO0MGd5zqI"
      },
      "source": [
        "# W O R K F L O W"
      ]
    },
    {
      "cell_type": "markdown",
      "metadata": {
        "id": "f-5MjSVX4Ih7"
      },
      "source": [
        "## I. Tokenizer function"
      ]
    },
    {
      "cell_type": "markdown",
      "metadata": {
        "id": "HuO0AT1U4Quc"
      },
      "source": [
        "Text data in nature is very unstructured and therefore, to be able to analyse it and use it, we use text mining techniques. These techniques shall help us summarize, visualize and get deeply acquainted with the important traits of our data set. We shall use these techniques in our Exploratory Data Analysis process on our way to creating an efficient tokenizer function."
      ]
    },
    {
      "cell_type": "markdown",
      "metadata": {
        "id": "b4jNl_LNXbmQ"
      },
      "source": [
        "### Importing libraries"
      ]
    },
    {
      "cell_type": "code",
      "metadata": {
        "id": "-iqO2fTJXYuJ"
      },
      "source": [
        "# For interacting with the colab environment\n",
        "import os\n",
        "\n",
        "# For reading the csv file\n",
        "import pandas as pd"
      ],
      "execution_count": null,
      "outputs": []
    },
    {
      "cell_type": "markdown",
      "metadata": {
        "id": "jv4vDjKcBkGF"
      },
      "source": [
        "### Data Acquisition"
      ]
    },
    {
      "cell_type": "markdown",
      "metadata": {
        "id": "viIm7oCwnioD"
      },
      "source": [
        "To do so, we can add the zip file to google drive and then mount the latter to the colab environment in order to be able to access the file and unzip it."
      ]
    },
    {
      "cell_type": "code",
      "metadata": {
        "colab": {
          "base_uri": "https://localhost:8080/"
        },
        "id": "81-NS8SMQHNi",
        "outputId": "2efcae66-9167-41b9-f552-c50e6087b726"
      },
      "source": [
        "# unzipping the file\n",
        "!unzip /content/drive/MyDrive/documents.csv.zip"
      ],
      "execution_count": null,
      "outputs": [
        {
          "output_type": "stream",
          "text": [
            "Archive:  /content/drive/MyDrive/documents.csv.zip\n",
            "  inflating: documents.csv           \n",
            "  inflating: __MACOSX/._documents.csv  \n"
          ],
          "name": "stdout"
        }
      ]
    },
    {
      "cell_type": "markdown",
      "metadata": {
        "id": "uNSS4882pG19"
      },
      "source": [
        "Now that the file is unzipped, the extracted files will be added to the colab environment and will appear in the files list.\n",
        "\n",
        " ![Screenshot 2021-06-21 231400.png](data:image/png;base64,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)"
      ]
    },
    {
      "cell_type": "markdown",
      "metadata": {
        "id": "SLloqmUjsZyB"
      },
      "source": [
        "We then copy the path to that file (documents.csv) by right clicking on it and choosing the command \"Copy path\".\n",
        "\n",
        "After that, we paste the link as shown in the code below in order to read the data."
      ]
    },
    {
      "cell_type": "code",
      "metadata": {
        "id": "eDPIYQNumanI"
      },
      "source": [
        "# Reading the data\n",
        "raw_data = pd.read_csv(\"/content/documents.csv\") "
      ],
      "execution_count": null,
      "outputs": []
    },
    {
      "cell_type": "markdown",
      "metadata": {
        "id": "-vNoSwt0ts5l"
      },
      "source": [
        "### Getting a first glance at our data"
      ]
    },
    {
      "cell_type": "code",
      "metadata": {
        "colab": {
          "base_uri": "https://localhost:8080/",
          "height": 419
        },
        "id": "VXi7z72RmaW1",
        "outputId": "2a33cda3-6cbd-45de-bf2d-756cc6c899d3"
      },
      "source": [
        "raw_data"
      ],
      "execution_count": null,
      "outputs": [
        {
          "output_type": "execute_result",
          "data": {
            "text/html": [
              "<div>\n",
              "<style scoped>\n",
              "    .dataframe tbody tr th:only-of-type {\n",
              "        vertical-align: middle;\n",
              "    }\n",
              "\n",
              "    .dataframe tbody tr th {\n",
              "        vertical-align: top;\n",
              "    }\n",
              "\n",
              "    .dataframe thead th {\n",
              "        text-align: right;\n",
              "    }\n",
              "</style>\n",
              "<table border=\"1\" class=\"dataframe\">\n",
              "  <thead>\n",
              "    <tr style=\"text-align: right;\">\n",
              "      <th></th>\n",
              "      <th>id</th>\n",
              "      <th>doc</th>\n",
              "    </tr>\n",
              "  </thead>\n",
              "  <tbody>\n",
              "    <tr>\n",
              "      <th>0</th>\n",
              "      <td>320089</td>\n",
              "      <td>La gamme ULTIMATE REPAIR comble les pertes en ...</td>\n",
              "    </tr>\n",
              "    <tr>\n",
              "      <th>1</th>\n",
              "      <td>320719</td>\n",
              "      <td>L'Anti-Calcaire Antikal Plus élimine les trace...</td>\n",
              "    </tr>\n",
              "    <tr>\n",
              "      <th>2</th>\n",
              "      <td>320803</td>\n",
              "      <td>Brioche nature 400g.</td>\n",
              "    </tr>\n",
              "    <tr>\n",
              "      <th>3</th>\n",
              "      <td>321509</td>\n",
              "      <td>On ne dîne plus on soupe ! Simple et Gourmand ...</td>\n",
              "    </tr>\n",
              "    <tr>\n",
              "      <th>4</th>\n",
              "      <td>321619</td>\n",
              "      <td>Confipote, la plus décomplexée des confitures ...</td>\n",
              "    </tr>\n",
              "    <tr>\n",
              "      <th>...</th>\n",
              "      <td>...</td>\n",
              "      <td>...</td>\n",
              "    </tr>\n",
              "    <tr>\n",
              "      <th>243518</th>\n",
              "      <td>2892200042</td>\n",
              "      <td>Verrines garnies de tomates, de courgettes, de...</td>\n",
              "    </tr>\n",
              "    <tr>\n",
              "      <th>243519</th>\n",
              "      <td>2892205932</td>\n",
              "      <td>NaN</td>\n",
              "    </tr>\n",
              "    <tr>\n",
              "      <th>243520</th>\n",
              "      <td>2892230985</td>\n",
              "      <td>NaN</td>\n",
              "    </tr>\n",
              "    <tr>\n",
              "      <th>243521</th>\n",
              "      <td>2892231399</td>\n",
              "      <td>Verrines garnies de surimi, de crevettes cuite...</td>\n",
              "    </tr>\n",
              "    <tr>\n",
              "      <th>243522</th>\n",
              "      <td>2892238736</td>\n",
              "      <td>NaN</td>\n",
              "    </tr>\n",
              "  </tbody>\n",
              "</table>\n",
              "<p>243523 rows × 2 columns</p>\n",
              "</div>"
            ],
            "text/plain": [
              "                id                                                doc\n",
              "0           320089  La gamme ULTIMATE REPAIR comble les pertes en ...\n",
              "1           320719  L'Anti-Calcaire Antikal Plus élimine les trace...\n",
              "2           320803                               Brioche nature 400g.\n",
              "3           321509  On ne dîne plus on soupe ! Simple et Gourmand ...\n",
              "4           321619  Confipote, la plus décomplexée des confitures ...\n",
              "...            ...                                                ...\n",
              "243518  2892200042  Verrines garnies de tomates, de courgettes, de...\n",
              "243519  2892205932                                                NaN\n",
              "243520  2892230985                                                NaN\n",
              "243521  2892231399  Verrines garnies de surimi, de crevettes cuite...\n",
              "243522  2892238736                                                NaN\n",
              "\n",
              "[243523 rows x 2 columns]"
            ]
          },
          "metadata": {
            "tags": []
          },
          "execution_count": 4
        }
      ]
    },
    {
      "cell_type": "code",
      "metadata": {
        "colab": {
          "base_uri": "https://localhost:8080/"
        },
        "id": "NkCilFijjOhH",
        "outputId": "7b9af6bb-29cc-428b-b493-78527b067b35"
      },
      "source": [
        "raw_data.info"
      ],
      "execution_count": null,
      "outputs": [
        {
          "output_type": "execute_result",
          "data": {
            "text/plain": [
              "<bound method DataFrame.info of                 id                                                doc\n",
              "0           320089  La gamme ULTIMATE REPAIR comble les pertes en ...\n",
              "1           320719  L'Anti-Calcaire Antikal Plus élimine les trace...\n",
              "2           320803                               Brioche nature 400g.\n",
              "3           321509  On ne dîne plus on soupe ! Simple et Gourmand ...\n",
              "4           321619  Confipote, la plus décomplexée des confitures ...\n",
              "...            ...                                                ...\n",
              "243518  2892200042  Verrines garnies de tomates, de courgettes, de...\n",
              "243519  2892205932                                                NaN\n",
              "243520  2892230985                                                NaN\n",
              "243521  2892231399  Verrines garnies de surimi, de crevettes cuite...\n",
              "243522  2892238736                                                NaN\n",
              "\n",
              "[243523 rows x 2 columns]>"
            ]
          },
          "metadata": {
            "tags": []
          },
          "execution_count": 5
        }
      ]
    },
    {
      "cell_type": "code",
      "metadata": {
        "colab": {
          "base_uri": "https://localhost:8080/",
          "height": 297
        },
        "id": "q5f2GBqxjcLj",
        "outputId": "08d4a23a-959b-4bbc-89a3-f6bddc7f210f"
      },
      "source": [
        "raw_data.describe()"
      ],
      "execution_count": null,
      "outputs": [
        {
          "output_type": "execute_result",
          "data": {
            "text/html": [
              "<div>\n",
              "<style scoped>\n",
              "    .dataframe tbody tr th:only-of-type {\n",
              "        vertical-align: middle;\n",
              "    }\n",
              "\n",
              "    .dataframe tbody tr th {\n",
              "        vertical-align: top;\n",
              "    }\n",
              "\n",
              "    .dataframe thead th {\n",
              "        text-align: right;\n",
              "    }\n",
              "</style>\n",
              "<table border=\"1\" class=\"dataframe\">\n",
              "  <thead>\n",
              "    <tr style=\"text-align: right;\">\n",
              "      <th></th>\n",
              "      <th>id</th>\n",
              "    </tr>\n",
              "  </thead>\n",
              "  <tbody>\n",
              "    <tr>\n",
              "      <th>count</th>\n",
              "      <td>2.435230e+05</td>\n",
              "    </tr>\n",
              "    <tr>\n",
              "      <th>mean</th>\n",
              "      <td>2.479304e+08</td>\n",
              "    </tr>\n",
              "    <tr>\n",
              "      <th>std</th>\n",
              "      <td>6.015039e+08</td>\n",
              "    </tr>\n",
              "    <tr>\n",
              "      <th>min</th>\n",
              "      <td>3.200890e+05</td>\n",
              "    </tr>\n",
              "    <tr>\n",
              "      <th>25%</th>\n",
              "      <td>1.218775e+07</td>\n",
              "    </tr>\n",
              "    <tr>\n",
              "      <th>50%</th>\n",
              "      <td>2.124742e+07</td>\n",
              "    </tr>\n",
              "    <tr>\n",
              "      <th>75%</th>\n",
              "      <td>2.488630e+07</td>\n",
              "    </tr>\n",
              "    <tr>\n",
              "      <th>max</th>\n",
              "      <td>2.892239e+09</td>\n",
              "    </tr>\n",
              "  </tbody>\n",
              "</table>\n",
              "</div>"
            ],
            "text/plain": [
              "                 id\n",
              "count  2.435230e+05\n",
              "mean   2.479304e+08\n",
              "std    6.015039e+08\n",
              "min    3.200890e+05\n",
              "25%    1.218775e+07\n",
              "50%    2.124742e+07\n",
              "75%    2.488630e+07\n",
              "max    2.892239e+09"
            ]
          },
          "metadata": {
            "tags": []
          },
          "execution_count": 6
        }
      ]
    },
    {
      "cell_type": "code",
      "metadata": {
        "colab": {
          "base_uri": "https://localhost:8080/"
        },
        "id": "SRlUDREXmaRe",
        "outputId": "44d3dac7-cad2-47b7-f121-5b0528401d6a"
      },
      "source": [
        "print(\"Shape of data is : \",raw_data.shape)"
      ],
      "execution_count": null,
      "outputs": [
        {
          "output_type": "stream",
          "text": [
            "Shape of data is :  (243523, 2)\n"
          ],
          "name": "stdout"
        }
      ]
    },
    {
      "cell_type": "markdown",
      "metadata": {
        "id": "0qTxeON-6UnK"
      },
      "source": [
        "Note: we can directly download the data into the colab environment without having to download it on our laptop or mount it on our drive using the command: \n",
        "\n",
        "!wget https://... (download link)"
      ]
    },
    {
      "cell_type": "markdown",
      "metadata": {
        "id": "6T8UCWFiuRNY"
      },
      "source": [
        "### Data Cleaning"
      ]
    },
    {
      "cell_type": "markdown",
      "metadata": {
        "id": "TzPO3IQy8KUO"
      },
      "source": [
        "Before I begin working with my data, I always prefer to make a copy of it in the process in order to always have that first raw version of data to come back to if I ever need to. In this challenge, the copy of the cleaned data is under the name: clean_data."
      ]
    },
    {
      "cell_type": "code",
      "metadata": {
        "colab": {
          "base_uri": "https://localhost:8080/"
        },
        "id": "nLnPO7hFviKq",
        "outputId": "f68ca2b7-d8b4-449f-cb63-a3f03ff658c1"
      },
      "source": [
        "# Checking how many NaN values we have\n",
        "raw_data.isnull().sum(axis = 0)"
      ],
      "execution_count": null,
      "outputs": [
        {
          "output_type": "execute_result",
          "data": {
            "text/plain": [
              "id         0\n",
              "doc    34842\n",
              "dtype: int64"
            ]
          },
          "metadata": {
            "tags": []
          },
          "execution_count": 8
        }
      ]
    },
    {
      "cell_type": "markdown",
      "metadata": {
        "id": "fyKYqkrywFE9"
      },
      "source": [
        "We notice that we have 34842 NaN values out of 243523 total values which is around 14%. We will want to, of course, get rid of those values in order to clean our data and leave only what we need."
      ]
    },
    {
      "cell_type": "code",
      "metadata": {
        "colab": {
          "base_uri": "https://localhost:8080/",
          "height": 419
        },
        "id": "rue2ln9qviEm",
        "outputId": "7e29d32f-5ad4-4f0c-ea34-e53d386b4a3d"
      },
      "source": [
        "#removing the NaN values\n",
        "clean_data = raw_data\n",
        "clean_data.dropna(inplace = True)\n",
        "clean_data"
      ],
      "execution_count": null,
      "outputs": [
        {
          "output_type": "execute_result",
          "data": {
            "text/html": [
              "<div>\n",
              "<style scoped>\n",
              "    .dataframe tbody tr th:only-of-type {\n",
              "        vertical-align: middle;\n",
              "    }\n",
              "\n",
              "    .dataframe tbody tr th {\n",
              "        vertical-align: top;\n",
              "    }\n",
              "\n",
              "    .dataframe thead th {\n",
              "        text-align: right;\n",
              "    }\n",
              "</style>\n",
              "<table border=\"1\" class=\"dataframe\">\n",
              "  <thead>\n",
              "    <tr style=\"text-align: right;\">\n",
              "      <th></th>\n",
              "      <th>id</th>\n",
              "      <th>doc</th>\n",
              "    </tr>\n",
              "  </thead>\n",
              "  <tbody>\n",
              "    <tr>\n",
              "      <th>0</th>\n",
              "      <td>320089</td>\n",
              "      <td>La gamme ULTIMATE REPAIR comble les pertes en ...</td>\n",
              "    </tr>\n",
              "    <tr>\n",
              "      <th>1</th>\n",
              "      <td>320719</td>\n",
              "      <td>L'Anti-Calcaire Antikal Plus élimine les trace...</td>\n",
              "    </tr>\n",
              "    <tr>\n",
              "      <th>2</th>\n",
              "      <td>320803</td>\n",
              "      <td>Brioche nature 400g.</td>\n",
              "    </tr>\n",
              "    <tr>\n",
              "      <th>3</th>\n",
              "      <td>321509</td>\n",
              "      <td>On ne dîne plus on soupe ! Simple et Gourmand ...</td>\n",
              "    </tr>\n",
              "    <tr>\n",
              "      <th>4</th>\n",
              "      <td>321619</td>\n",
              "      <td>Confipote, la plus décomplexée des confitures ...</td>\n",
              "    </tr>\n",
              "    <tr>\n",
              "      <th>...</th>\n",
              "      <td>...</td>\n",
              "      <td>...</td>\n",
              "    </tr>\n",
              "    <tr>\n",
              "      <th>243416</th>\n",
              "      <td>2886941148</td>\n",
              "      <td>Verrines garnies de pulpe dâavocat, de tomat...</td>\n",
              "    </tr>\n",
              "    <tr>\n",
              "      <th>243421</th>\n",
              "      <td>2886941324</td>\n",
              "      <td>A l'apÃ©ritif ou en en raclette, choisissez le...</td>\n",
              "    </tr>\n",
              "    <tr>\n",
              "      <th>243513</th>\n",
              "      <td>2886949452</td>\n",
              "      <td>Cubanisto est une biÃ¨re Â« tendance Â» aromat...</td>\n",
              "    </tr>\n",
              "    <tr>\n",
              "      <th>243518</th>\n",
              "      <td>2892200042</td>\n",
              "      <td>Verrines garnies de tomates, de courgettes, de...</td>\n",
              "    </tr>\n",
              "    <tr>\n",
              "      <th>243521</th>\n",
              "      <td>2892231399</td>\n",
              "      <td>Verrines garnies de surimi, de crevettes cuite...</td>\n",
              "    </tr>\n",
              "  </tbody>\n",
              "</table>\n",
              "<p>208681 rows × 2 columns</p>\n",
              "</div>"
            ],
            "text/plain": [
              "                id                                                doc\n",
              "0           320089  La gamme ULTIMATE REPAIR comble les pertes en ...\n",
              "1           320719  L'Anti-Calcaire Antikal Plus élimine les trace...\n",
              "2           320803                               Brioche nature 400g.\n",
              "3           321509  On ne dîne plus on soupe ! Simple et Gourmand ...\n",
              "4           321619  Confipote, la plus décomplexée des confitures ...\n",
              "...            ...                                                ...\n",
              "243416  2886941148  Verrines garnies de pulpe dâavocat, de tomat...\n",
              "243421  2886941324  A l'apÃ©ritif ou en en raclette, choisissez le...\n",
              "243513  2886949452  Cubanisto est une biÃ¨re Â« tendance Â» aromat...\n",
              "243518  2892200042  Verrines garnies de tomates, de courgettes, de...\n",
              "243521  2892231399  Verrines garnies de surimi, de crevettes cuite...\n",
              "\n",
              "[208681 rows x 2 columns]"
            ]
          },
          "metadata": {
            "tags": []
          },
          "execution_count": 9
        }
      ]
    },
    {
      "cell_type": "code",
      "metadata": {
        "colab": {
          "base_uri": "https://localhost:8080/"
        },
        "id": "8V4PZxUuIrzg",
        "outputId": "0d6b2842-9668-474a-fd4e-19d12d049675"
      },
      "source": [
        "# Checking the transformation made\n",
        "# we should now see that the number of NaN values in the doc column is zero instead of 34842\n",
        "clean_data.isnull().sum()"
      ],
      "execution_count": null,
      "outputs": [
        {
          "output_type": "execute_result",
          "data": {
            "text/plain": [
              "id     0\n",
              "doc    0\n",
              "dtype: int64"
            ]
          },
          "metadata": {
            "tags": []
          },
          "execution_count": 10
        }
      ]
    },
    {
      "cell_type": "code",
      "metadata": {
        "colab": {
          "base_uri": "https://localhost:8080/"
        },
        "id": "ywepFk9e5aS2",
        "outputId": "6200f1db-b222-4d1c-f008-4a0c0aee86c3"
      },
      "source": [
        "# knowing how many rows we have is great but affecting them to a variable is always a good idea!\n",
        "num_rows = clean_data.shape[0]\n",
        "num_rows"
      ],
      "execution_count": null,
      "outputs": [
        {
          "output_type": "execute_result",
          "data": {
            "text/plain": [
              "208681"
            ]
          },
          "metadata": {
            "tags": []
          },
          "execution_count": 11
        }
      ]
    },
    {
      "cell_type": "code",
      "metadata": {
        "colab": {
          "base_uri": "https://localhost:8080/"
        },
        "id": "pLvXNfh6L_wf",
        "outputId": "bc4c5f59-f904-4174-cf4d-a9d5f833cc00"
      },
      "source": [
        "\"\"\" For better visualization\"\"\"\n",
        "# Creating a list, desc_list, of the text we have (the product descriptions)\n",
        "desc_list = []\n",
        "for index,text in enumerate(clean_data['doc']):\n",
        "  desc_list.append(text)\n",
        "print(len(desc_list))"
      ],
      "execution_count": null,
      "outputs": [
        {
          "output_type": "stream",
          "text": [
            "208681\n"
          ],
          "name": "stdout"
        }
      ]
    },
    {
      "cell_type": "code",
      "metadata": {
        "colab": {
          "base_uri": "https://localhost:8080/"
        },
        "id": "yC1URlWkM28c",
        "outputId": "d1d68e2e-ea29-4326-85eb-5cc54a31a392"
      },
      "source": [
        "# Verifying if the length of desc_list length is equal to the number of rows we have\n",
        "num_rows == len(desc_list)"
      ],
      "execution_count": null,
      "outputs": [
        {
          "output_type": "execute_result",
          "data": {
            "text/plain": [
              "True"
            ]
          },
          "metadata": {
            "tags": []
          },
          "execution_count": 13
        }
      ]
    },
    {
      "cell_type": "code",
      "metadata": {
        "colab": {
          "base_uri": "https://localhost:8080/"
        },
        "id": "rEVwCPnRNkVA",
        "outputId": "f23b8c94-181d-401c-ac80-85c27805cedd"
      },
      "source": [
        "# Visualizing desc_list by printing some values\n",
        "for x in range(15):\n",
        "  print(desc_list[x])"
      ],
      "execution_count": null,
      "outputs": [
        {
          "output_type": "stream",
          "text": [
            "La gamme ULTIMATE REPAIR comble les pertes en kératine, répare de façon ciblée les zones très abîmées de la fibre capillaire et apporte résistance et brillance aux cheveux. Ce shampooing est conçu pour laver les cheveux en douceur. Sa formule, composée de 89 % d’ingrédients d’origine naturelle *, est enrichie en KÉRATINE LIQUIDE, protéine protectrice, et en PERLE NOIRE, riche en oligo-éléments. Les 11 % restants participent principalement à la sensorialité et la bonne conservation du produit. Les formules GLISS, aux ACTIFS CAPILLAIRES RECONNUS, réparent les zones abîmées et répondent aux besoins spécifiques des cheveux pour les sublimer.. Shampooing\n",
            "L'Anti-Calcaire Antikal Plus élimine les traces d'eau et dissout le calcaire. En plus, sa formule épaisse lui permet d'adhérer plus longtemps sur les surfaces verticales, pour un nettoyage en profondeur des résidus de savon et autres types de saleté. L'anti-calcaire Antikal respecte vos surfaces et aide à éviter les traces d'eau et à prévenir la réapparition du calcaire. Idéal pour les surfaces en contact avec l'eau telles que votre salle de bains et votre cuisine. Vous pouvez l'utiliser au quotidien pour une brillance éclatante.. Antikal Hygiène Anti-Calcaire Liquide 500 ml\n",
            "Brioche nature 400g.\n",
            "On ne dîne plus on soupe ! Simple et Gourmand : 1 soupe Liebig + 1 accompagnement Nos Engagements 1 Goût 2 Proximité 3 Qualité 4 Générosité 5 Environnement 1 Goût Nos chefs cuisinent pour vous des soupes irrésistibles avec tout leur savoir-faire et leur passion des légumes. Variez les Plaisirs ! Liebig Potager Malin Légumes et Vermicelles Liebig PurSoup' Velouté de Légumes du Soleil Liebig Gourmande Délice de Potiron Châtaigne. Soupe à l'oignon\n",
            "Confipote, la plus décomplexée des confitures ! Une recette simple, avec 65% de fruits dans chaque pot pour moins de sucres* ! Osez réveiller vos petits déjeuners avec Confipote ! (*30% de sucres en moins qu’une confiture classique). Confiture de Poires allégée en sucres (30 % de sucres en moins qu'une confiture classique)\n",
            "Cosmia propose une gamme experte de shampoings dédiée aux hommes, pour répondre à leurs besoins. Le shampoing technique man densificateur fortifie le cheveu et redonne du volume pour un rendu soyeux et souple. Pour cheveux fins.\n",
            "Apéritif à base de vin. Apéritif à base de vin, Byrrh a pour spécificité d'être aromatisé au quinquina. Les raisins sont transformés en mistelles qui sont ensuite assemblées avec des vins rouges et secs de caractère.\n",
            "Sucre vanillé Bourbon. La saveur unique de la meilleure vanille du monde pour parfumer tous vos desserts et gâteaux préférés. Lot de 4 sachets de 7,5g.\n",
            "BANANIA 250 g. Préparation en poudre pour petit déjeuner instantané\n",
            "Champignons de Paris 1er choix entiers, surgelÃ©s\n",
            "Environ 300g\n",
            "Un fromage au goût authentique Son secret ? Une texture ferme et crayeuse qui deviendra onctueuse et crémeuse au fur et à mesure de son affinage. Notre camembert Bons Mayennais s’adaptera à votre goût en s’affirmant au fil du temps. La renommée de notre camembert vient de sa recette traditionnelle et authentique, qui n'a pas changé depuis plus de 100 ans ! Il est fabriqué à base de lait pasteurisé collecté en Mayenne dans un rayon de 40 km autour de la fromagerie. Fier de notre terroir, nous travaillons avec des producteurs laitiers partenaires qui nous fournissent du bon lait frais toutes les 48h. Les éleveurs laissent leurs vaches aux pâturages en moyenne plus de 6 mois par an. Un bon fromage provient d'abord d'un bon lait ! D'ailleurs, il faudra environ 2 litres de lait pour fabriquer un camembert Bons Mayennais. Au cours de son affinage, une fine croûte fleurie blanche va se former sur notre camembert. Cette croûte que les scientifiques appellent Penicillium candidum, permet à la fois de conserver et de développer la richesse des arômes de notre fromage. Saviez-vous que chacun de nos fromages est retourné à la main ? Une technique utilisée par nos fromagers lors de la fabrication du fromage, qui leur permet de contrôler chaque produit lors de son affinage. Un gage de qualité depuis 1912 !. Camembert au lait pasteurisé\n",
            "0.33 LT. Boisson rafraîchissante aux extraits végétaux, avec édulcorants.;\n",
            "Matière grasse à tartiner et à cuire allégée (55 % MG). St Hubert Pur®Végétal est la 1ère matière grasse garantie SANS LAIT et SANS ARACHIDE, pour se faire plaisir en tartine et en cuisine. Elle garantit : - L’absence de lait et d’arachide, validée scientifiquement - Une composition 100% végétale - Sans conservateur - Le savoir-faire de St Hubert pour des produits savoureux. Il est le résultat d’une étroite collaboration entre la société Genclis, spécialisée dans les métiers du diagnostic en allergologie, le service médecine interne du CHU de Nancy, et St Hubert. St Hubert Pur® végétal est recommandé par l’Association Française pour le Prévention des Allergies (AFPRAL).\n",
            "Depuis sa création en 1964 en Floride, la gamme Sunny Delight ne cesse de s'agrandir et offre des pauses rafraichissantes toujours plus gourmandes et variées. Drink Sunny & Enjoy !. boisson rafraîchissante aux extraits de fruits\n"
          ],
          "name": "stdout"
        }
      ]
    },
    {
      "cell_type": "markdown",
      "metadata": {
        "id": "fkpDRoXmzD7E"
      },
      "source": [
        "We notice, from a first glance at the text, some changes that need to be done to the text such as some characters and digits that need to be removed for example.\n",
        "\n",
        "This is the stage at which we will use text mining techniques in order to efficiently conduct the EDA process for the sake of a well structured and systematic tokenizer function."
      ]
    },
    {
      "cell_type": "markdown",
      "metadata": {
        "id": "2tB9nR-Zq2lw"
      },
      "source": [
        "### Making the tokenizer function"
      ]
    },
    {
      "cell_type": "markdown",
      "metadata": {
        "id": "3j9Dg2KgwlPo"
      },
      "source": [
        "In Natural Language Processing (NLP), the first step is Tokenization. Applying tokenization is representing words in a way that a computer can process them. So we basically break strings into tokens which are the units or structures we will use for tokenization."
      ]
    },
    {
      "cell_type": "code",
      "metadata": {
        "colab": {
          "base_uri": "https://localhost:8080/"
        },
        "id": "XGFHzaL8z_88",
        "outputId": "96c5918e-b1ad-4131-d0a5-a0febc3f3c9e"
      },
      "source": [
        "# Importing the libraries we need for tokenization\n",
        "import nltk\n",
        "nltk.download('punkt')\n",
        "from nltk.tokenize import word_tokenize"
      ],
      "execution_count": null,
      "outputs": [
        {
          "output_type": "stream",
          "text": [
            "[nltk_data] Downloading package punkt to /root/nltk_data...\n",
            "[nltk_data]   Unzipping tokenizers/punkt.zip.\n"
          ],
          "name": "stdout"
        }
      ]
    },
    {
      "cell_type": "markdown",
      "metadata": {
        "id": "oVj1dlYV-byQ"
      },
      "source": [
        "The following tokenizer function takes in as input:\n",
        "1. The dataframe\n",
        "2. The name of the original dataframe column we are concerned with doing tokenization on\n",
        "3. The name of the new dataframe column that will contain the clean text"
      ]
    },
    {
      "cell_type": "code",
      "metadata": {
        "id": "x0edZh1cD1EX"
      },
      "source": [
        "# Creating the column clean_column in the dataframe (for comparison and raw data purposes)\n",
        "clean_data['clean_doc'] = clean_data['doc']"
      ],
      "execution_count": null,
      "outputs": []
    },
    {
      "cell_type": "code",
      "metadata": {
        "id": "NOsI6PG908Ot"
      },
      "source": [
        "def tokenizer (df, clean_column):\n",
        "\n",
        "  # Lowercasing the text\n",
        "  df[clean_column] = df[clean_column].apply(lambda x: x.lower())\n",
        "  \n",
        "  # Removing digits and words containing digits\n",
        "  import re\n",
        "  df[clean_column] = df[clean_column].apply(lambda x: re.sub('\\w*\\d\\w*','', x))\n",
        "  \n",
        "  # Removing punctuations\n",
        "  import string\n",
        "  df[clean_column] = df[clean_column].apply(lambda x: re.sub('[%s]' % re.escape(string.punctuation), '', x))\n",
        "  \n",
        "  # Removing extra spaces\n",
        "  df[clean_column] = df[clean_column].apply(lambda x: re.sub(' +',' ',x))\n",
        "\n",
        "  # Creating a list of the text we have (the product descriptins) in order to be able to manipulate it more directly\n",
        "  clean_list = []\n",
        "  for index,text in enumerate(df[clean_column]):\n",
        "    clean_list.append(text)\n",
        "\n",
        "  # Removing non-alphanumeric characters (and keeping the spaces as they are)\n",
        "  for x in range(len(clean_list)):\n",
        "    clean_list[x] = ''.join(ch for ch in clean_list[x] if ch.isalnum() or ch == \" \" )\n",
        "\n",
        "  # Turn the list of clean text (clean_list) into a string to be able to apply word_tokenize function\n",
        "  clean_str = \"\"\n",
        "  for x in clean_list: \n",
        "    clean_str += x\n",
        "  \n",
        "  # Finally getting our tokens (splitting the text into words)\n",
        "  tokens = word_tokenize(clean_str)\n",
        "\n",
        "  return tokens\n"
      ],
      "execution_count": null,
      "outputs": []
    },
    {
      "cell_type": "code",
      "metadata": {
        "colab": {
          "base_uri": "https://localhost:8080/"
        },
        "id": "egUEeWnd3SVm",
        "outputId": "af0e8e31-7b0d-4a06-92a0-64ba5b19018d"
      },
      "source": [
        "# Applying our tokenizer function on this dataframe\n",
        "tokens = tokenizer(clean_data, 'clean_doc')\n",
        "print(type(tokens))\n",
        "n_tokens = len(tokens)\n",
        "print(n_tokens)"
      ],
      "execution_count": null,
      "outputs": [
        {
          "output_type": "stream",
          "text": [
            "<class 'list'>\n",
            "5616424\n"
          ],
          "name": "stdout"
        }
      ]
    },
    {
      "cell_type": "markdown",
      "metadata": {
        "id": "DmZ7D6OOMkFj"
      },
      "source": [
        "Note: While trying different methods for applying the operation of \"Removing non-alphanumeric characters\", I noticed that the traditional way of doing it (changing the dataframe content and then extracting the text) is a very expensive method in terms of time, around 14 times more time consuming than the method that i have used.\n",
        "\n",
        "In fact, the way i did it will apply the changes on an extracted list from the dataframe and not on the entire one. It takes around 7 minutes and a half to remove non-alphanumeric characters from the whole dataframe, whereas the method that i used (in which we extract a list and then extract the tokens from it) only takes 36 seconds.\n",
        "\n",
        "And this is very logical as we have more than 208 thousand rows in our dataframe so changing them all will definitely take a few minutes."
      ]
    },
    {
      "cell_type": "markdown",
      "metadata": {
        "id": "hMuf98v40HOU"
      },
      "source": [
        "## II.Token embedding"
      ]
    },
    {
      "cell_type": "markdown",
      "metadata": {
        "id": "AID7UeUFWwA_"
      },
      "source": [
        "Token embeddings are the vocabulary IDs for each of the tokens. At the token embedding stage, we will send each token we have obtained from the tokenizer fuction to the token embedding layer in order to convert each one into a vector form and hereby obtain our embedding matrix.\n",
        "\n",
        "The vectors we will obtain are word embeddings of which the values are trainable parameters. These values are weights that the model learns and that shall be enough for us to be sure that they will be more efficient that one-hot encoding or manual encoding.\n",
        "\n",
        ".![Screenshot 2021-06-24 121407.png](data:image/png;base64,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)\n",
        "\n",
        "Above is a 4-dimension word embedding example where each word (token) is represented as a 4-dimension vector containing weights determined by a given model."
      ]
    },
    {
      "cell_type": "markdown",
      "metadata": {
        "id": "6LsAIrOyjM9o"
      },
      "source": [
        "JUST MAKE A SIMPLE TRAIN TEST SPLIT OPERATION, VECTORIZATION, THEN EMBEDDING (AS SIMPLE AND CLEAR AS YOU CAN)"
      ]
    },
    {
      "cell_type": "markdown",
      "metadata": {
        "id": "iTN4JKoQDpXd"
      },
      "source": [
        "### Importing libraries"
      ]
    },
    {
      "cell_type": "code",
      "metadata": {
        "id": "Ic50pznHzS_Z"
      },
      "source": [
        "import io\n",
        "import re\n",
        "import shutil\n",
        "import string\n",
        "import tensorflow as tf\n",
        "\n",
        "from tensorflow.keras import Sequential\n",
        "from tensorflow.keras.layers import Dense, Embedding, GlobalAveragePooling1D\n",
        "from tensorflow.keras.layers.experimental.preprocessing import TextVectorization"
      ],
      "execution_count": null,
      "outputs": []
    },
    {
      "cell_type": "markdown",
      "metadata": {
        "id": "3jo0I7_6v__3"
      },
      "source": [
        "An embedding is a dense vector of floating point values (the length of the vector is a parameter you specify). \n",
        " \n",
        " It is common to see word embeddings that are 8-dimensional (for small datasets), up to 1024-dimensions when working with large datasets. A higher dimensional embedding can capture fine-grained relationships between words, but takes more data to learn."
      ]
    },
    {
      "cell_type": "markdown",
      "metadata": {
        "id": "Sjbn8yCDBTox"
      },
      "source": [
        "When given a batch of sequences as input, an embedding layer returns a 3D floating point tensor, of shape (samples, sequence_length, embedding_dimensionality)."
      ]
    },
    {
      "cell_type": "code",
      "metadata": {
        "colab": {
          "base_uri": "https://localhost:8080/"
        },
        "id": "QLkV5lWbUB3H",
        "outputId": "4fa7ec68-39c4-40d4-930e-192ad227acdb"
      },
      "source": [
        "# Vocabulary size and number of words in a sequence.\n",
        "vocab_size = clean_data.shape[1]\n",
        "sequence_length = 0\n",
        "for token in tokens:\n",
        "  for ch in token:\n",
        "    sequence_length +=1\n",
        "print(sequence_length)\n",
        "print(vocab_size)"
      ],
      "execution_count": null,
      "outputs": [
        {
          "output_type": "stream",
          "text": [
            "31828159\n",
            "3\n"
          ],
          "name": "stdout"
        }
      ]
    },
    {
      "cell_type": "code",
      "metadata": {
        "colab": {
          "background_save": true
        },
        "id": "MTwb0vQXYsbA"
      },
      "source": [
        "# Making the vectorize layer that will prepare the input for the embedding layer\n",
        "vectorize_layer = TextVectorization(\n",
        "    max_tokens=vocab_size,\n",
        "    output_mode='int',\n",
        "    output_sequence_length=sequence_length)\n",
        "vectorize_layer.adapt(tokens)"
      ],
      "execution_count": null,
      "outputs": []
    },
    {
      "cell_type": "code",
      "metadata": {
        "colab": {
          "background_save": true
        },
        "id": "1IhN3MprmMXJ",
        "outputId": "6b960fa0-d7b8-4572-edf7-7f5c8a297e27"
      },
      "source": [
        "# Manually dividing the data into a testing and a trainig set\n",
        "train_tokens = []\n",
        "test_tokens = []\n",
        "for i in range(n_tokens):\n",
        "  if i < int(n_tokens*0.3):\n",
        "    test_tokens.append(tokens[i])\n",
        "  else :\n",
        "    train_tokens.append(tokens[i])\n",
        "\n",
        "print(len(test_tokens))\n",
        "print(len(train_tokens))"
      ],
      "execution_count": null,
      "outputs": [
        {
          "output_type": "stream",
          "text": [
            "1684927\n",
            "3931497\n"
          ],
          "name": "stdout"
        }
      ]
    },
    {
      "cell_type": "code",
      "metadata": {
        "id": "tv3Zf0FsqUPz"
      },
      "source": [
        "# Manually dividing the training data to a training and a validation data\n",
        "val_tokens = []\n",
        "l = len(train_tokens)\n",
        "for i in range(l):\n",
        "  if i < int(l*0.5):\n",
        "    val_tokens.append(train_tokens[i])\n",
        "    train_tokens.remove(train_tokens[i])\n",
        "\n",
        "print(len(val_tokens))\n",
        "print(len(train_tokens))"
      ],
      "execution_count": null,
      "outputs": []
    },
    {
      "cell_type": "code",
      "metadata": {
        "id": "H9KtTYfXCDVk"
      },
      "source": [
        "# Making our model\n",
        "embedding_dim=16\n",
        "\n",
        "model = Sequential([\n",
        "  # transform strings into vocabulary indices\n",
        "  vectorize_layer,\n",
        "  # Creating the vectors (adding a dimension to the output array) => output shape = (batch, sequence, embedding)\n",
        "  Embedding(vocab_size, embedding_dim, name=\"embedding\"),\n",
        "  # To turn an input of variable length into a fixed-length output by averaging over the sequence dimension\n",
        "  GlobalAveragePooling1D(),\n",
        "  # Piping our output through a fully-connected Dense layer of 16 hidden units\n",
        "  Dense(16, activation='relu'),\n",
        "  # Connecting the last layer with a single output node\n",
        "  Dense(1)])"
      ],
      "execution_count": null,
      "outputs": []
    },
    {
      "cell_type": "code",
      "metadata": {
        "id": "fN6dvcw6COxI"
      },
      "source": [
        "model.summary()"
      ],
      "execution_count": null,
      "outputs": []
    },
    {
      "cell_type": "code",
      "metadata": {
        "id": "bi8t4PFdCHYp"
      },
      "source": [
        "tensorboard_callback = tf.keras.callbacks.TensorBoard(log_dir=\"logs\")"
      ],
      "execution_count": null,
      "outputs": []
    },
    {
      "cell_type": "code",
      "metadata": {
        "id": "axbKNGmRCHQA"
      },
      "source": [
        "model.compile(optimizer='adam',\n",
        "              loss=tf.keras.losses.BinaryCrossentropy(from_logits=True),\n",
        "              metrics=['accuracy'])"
      ],
      "execution_count": null,
      "outputs": []
    },
    {
      "cell_type": "code",
      "metadata": {
        "id": "4yiDfRgZo-6j"
      },
      "source": [
        "tensorboard_callback = tf.keras.callbacks.TensorBoard(log_dir=\"logs\")"
      ],
      "execution_count": null,
      "outputs": []
    },
    {
      "cell_type": "code",
      "metadata": {
        "id": "jt8DCEC6b8It"
      },
      "source": [
        "model.fit(\n",
        "    train_tokens,\n",
        "    validation_data=val_tokens,\n",
        "    epochs=15,\n",
        "    callbacks=[tensorboard_callback])"
      ],
      "execution_count": null,
      "outputs": []
    },
    {
      "cell_type": "code",
      "metadata": {
        "id": "fh8fKaUNCOqR"
      },
      "source": [
        "# Retrieving the word embeddings\n",
        "weights = model.get_layer('embedding').get_weights()[0]\n",
        "vocab = vectorize_layer.get_vocabulary()"
      ],
      "execution_count": null,
      "outputs": []
    },
    {
      "cell_type": "code",
      "metadata": {
        "id": "1GRPE4qPS3XZ"
      },
      "source": [
        "print(vocab.shape)"
      ],
      "execution_count": null,
      "outputs": []
    }
  ]
}